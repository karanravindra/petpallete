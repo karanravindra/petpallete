{
 "cells": [
  {
   "cell_type": "code",
   "execution_count": null,
   "metadata": {},
   "outputs": [],
   "source": [
    "import os\n",
    "from PIL import Image\n",
    "from tqdm import tqdm\n",
    "\n",
    "def resize_and_save_image(input_path, output_path, size=(64, 64)):\n",
    "    \"\"\"Open, resize and save an image.\"\"\"\n",
    "    with Image.open(input_path) as img:\n",
    "        img = img.resize(size)\n",
    "        img.save(output_path, format=\"png\")\n",
    "\n",
    "def process_images(input_dir, output_dir, size=(64, 64)):\n",
    "    \"\"\"Process and resize all images from the input directory to the output directory.\"\"\"\n",
    "    for split in os.listdir(input_dir):\n",
    "        split_path = os.path.join(input_dir, split)\n",
    "        for _class in os.listdir(split_path):\n",
    "            class_input_path = os.path.join(split_path, _class)\n",
    "            class_output_path = os.path.join(output_dir, split, _class)\n",
    "            os.makedirs(class_output_path, exist_ok=True)\n",
    "            \n",
    "            image_files = os.listdir(class_input_path)\n",
    "            for image_file in tqdm(image_files, desc=f\"{split} - {_class}\"):\n",
    "                input_image_path = os.path.join(class_input_path, image_file)\n",
    "                output_image_path = os.path.join(class_output_path, image_file)\n",
    "                resize_and_save_image(input_image_path, output_image_path, size)\n",
    "\n",
    "if __name__ == \"__main__\":\n",
    "    input_directory = '../data/og'\n",
    "    output_directory = '../data/resized'\n",
    "    image_size = (64, 64)\n",
    "    \n",
    "    process_images(input_directory, output_directory, image_size)\n"
   ]
  },
  {
   "cell_type": "code",
   "execution_count": 3,
   "metadata": {},
   "outputs": [
    {
     "name": "stderr",
     "output_type": "stream",
     "text": [
      "Processing dog images: 100%|██████████| 4678/4678 [00:25<00:00, 186.23it/s]\n",
      "Processing wild images: 100%|██████████| 4593/4593 [00:13<00:00, 337.70it/s]  \n",
      "Processing cat images: 100%|██████████| 5065/5065 [00:24<00:00, 209.27it/s]\n",
      "Processing dog images: 100%|██████████| 491/491 [00:00<00:00, 1506.94it/s]\n",
      "Processing wild images: 100%|██████████| 483/483 [00:00<00:00, 1086.38it/s]\n",
      "Processing cat images: 100%|██████████| 493/493 [00:00<00:00, 1873.36it/s]\n"
     ]
    }
   ],
   "source": [
    "import os\n",
    "from PIL import Image\n",
    "from tqdm import tqdm\n",
    "from concurrent.futures import ThreadPoolExecutor\n",
    "\n",
    "\n",
    "def resize_and_save_image(input_path, output_path, size=(64, 64)):\n",
    "    \"\"\"Open, resize and save an image.\"\"\"\n",
    "    try:\n",
    "        with Image.open(input_path) as img:\n",
    "            img = img.resize(size)\n",
    "            img.save(output_path, format=\"png\")\n",
    "    except Exception as e:\n",
    "        print(f\"Error processing {input_path}: {e}\")\n",
    "\n",
    "def process_class_images(class_input_path, class_output_path, image_files, size, _class):\n",
    "    \"\"\"Process images for a single class using multithreading.\"\"\"\n",
    "    with ThreadPoolExecutor(max_workers=100) as executor:\n",
    "        futures = []\n",
    "        for image_file in image_files:\n",
    "            input_image_path = os.path.join(class_input_path, image_file)\n",
    "            output_image_path = os.path.join(class_output_path, image_file)\n",
    "            futures.append(executor.submit(resize_and_save_image, input_image_path, output_image_path, size))\n",
    "        \n",
    "        for _ in tqdm(futures, desc=f\"Processing {_class} images\"):\n",
    "            _ = _.result()  # Ensure each thread is completed\n",
    "\n",
    "def process_images(input_dir, output_dir, size=(64, 64)):\n",
    "    \"\"\"Process and resize all images from the input directory to the output directory.\"\"\"\n",
    "    for split in os.listdir(input_dir):\n",
    "        split_path = os.path.join(input_dir, split)\n",
    "        for _class in os.listdir(split_path):\n",
    "            class_input_path = os.path.join(split_path, _class)\n",
    "            class_output_path = os.path.join(output_dir, split, _class)\n",
    "            os.makedirs(class_output_path, exist_ok=True)\n",
    "            \n",
    "            image_files = os.listdir(class_input_path)\n",
    "            process_class_images(class_input_path, class_output_path, image_files, size, _class)\n",
    "\n",
    "if __name__ == \"__main__\":\n",
    "    input_directory = 'data/og'\n",
    "    output_directory = 'data/resized'\n",
    "    image_size = (64, 64)\n",
    "    \n",
    "    process_images(input_directory, output_directory, image_size)\n"
   ]
  },
  {
   "cell_type": "code",
   "execution_count": 2,
   "metadata": {},
   "outputs": [
    {
     "data": {
      "text/plain": [
       "['.git',\n",
       " 'README.md',\n",
       " 'download.sh',\n",
       " '.python-version',\n",
       " 'src',\n",
       " 'train-autoencoder.py',\n",
       " 'notebooks',\n",
       " 'uv.lock',\n",
       " '.gitignore',\n",
       " 'pyproject.toml',\n",
       " 'data']"
      ]
     },
     "execution_count": 2,
     "metadata": {},
     "output_type": "execute_result"
    }
   ],
   "source": [
    "os.listdir()"
   ]
  },
  {
   "cell_type": "code",
   "execution_count": null,
   "metadata": {},
   "outputs": [],
   "source": []
  }
 ],
 "metadata": {
  "kernelspec": {
   "display_name": ".venv",
   "language": "python",
   "name": "python3"
  },
  "language_info": {
   "codemirror_mode": {
    "name": "ipython",
    "version": 3
   },
   "file_extension": ".py",
   "mimetype": "text/x-python",
   "name": "python",
   "nbconvert_exporter": "python",
   "pygments_lexer": "ipython3",
   "version": "3.12.5"
  }
 },
 "nbformat": 4,
 "nbformat_minor": 2
}
