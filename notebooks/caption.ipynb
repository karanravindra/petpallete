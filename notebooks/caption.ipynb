{
 "cells": [
  {
   "cell_type": "code",
   "execution_count": null,
   "metadata": {},
   "outputs": [],
   "source": [
    "import torch\n",
    "import torchvision\n",
    "import torchvision.transforms.v2 as T\n",
    "import textwrap\n",
    "import itertools\n",
    "from PIL import Image\n",
    "from transformers import AutoProcessor, AutoModelForCausalLM\n",
    "from tqdm import tqdm\n",
    "\n",
    "torch.set_grad_enabled(False)"
   ]
  },
  {
   "cell_type": "code",
   "execution_count": 2,
   "metadata": {},
   "outputs": [],
   "source": [
    "train_dataset = torchvision.datasets.ImageFolder(\"../data/train\", T.Compose([T.Resize(16)]))\n",
    "test_dataset = torchvision.datasets.ImageFolder(\"../data/test\", T.Compose([T.Resize(16)]))"
   ]
  },
  {
   "cell_type": "code",
   "execution_count": null,
   "metadata": {},
   "outputs": [],
   "source": [
    "device = \"mps\"\n",
    "torch_dtype = torch.float16\n",
    "\n",
    "model = AutoModelForCausalLM.from_pretrained(\"microsoft/Florence-2-base\", torch_dtype=torch_dtype, trust_remote_code=True).to(device)\n",
    "processor = AutoProcessor.from_pretrained(\"microsoft/Florence-2-base\", trust_remote_code=True)\n",
    "\n",
    "# model = AutoModelForCausalLM.from_pretrained(\"gokaygokay/Florence-2-SD3-Captioner\", torch_dtype=torch_dtype, trust_remote_code=True).to(device).eval()\n",
    "# processor = AutoProcessor.from_pretrained(\"gokaygokay/Florence-2-SD3-Captioner\", trust_remote_code=True)"
   ]
  },
  {
   "cell_type": "code",
   "execution_count": 4,
   "metadata": {},
   "outputs": [],
   "source": [
    "def caption_image(image, task=\"<DETAILED_CAPTION>\"):\n",
    "    task = [task] * len(image)\n",
    "    inputs = processor(text=task, images=image, return_tensors=\"pt\").to(device, torch_dtype)\n",
    "    \n",
    "    generated_ids = model.generate(\n",
    "      input_ids=inputs[\"input_ids\"],\n",
    "      pixel_values=inputs[\"pixel_values\"],\n",
    "      max_new_tokens=1024,\n",
    "      num_beams=3,\n",
    "    )\n",
    "    \n",
    "    generated_text = processor.batch_decode(generated_ids, skip_special_tokens=False)\n",
    "\n",
    "    # parsed_answer = processor.post_process_generation(generated_text, task=task, image_size=(image[0].width, image[0].height))\n",
    "    answers = list(\n",
    "        map(\n",
    "            lambda x: processor.post_process_generation(x, task=task[0], image_size=(image[0].width, image[0].height)),\n",
    "            generated_text\n",
    "        )\n",
    "    )\n",
    "    \n",
    "    return answers"
   ]
  },
  {
   "cell_type": "code",
   "execution_count": null,
   "metadata": {},
   "outputs": [],
   "source": [
    "test_vals = test_dataset.imgs\n",
    "test_files = list(map(lambda x: x[0], test_vals))\n",
    "test_classes = list(map(lambda x: x[1], test_vals))\n",
    "print(test_files, test_classes)"
   ]
  },
  {
   "cell_type": "code",
   "execution_count": null,
   "metadata": {},
   "outputs": [],
   "source": [
    "captions = []\n",
    "for images in itertools.batched(tqdm(test_files), 8):\n",
    "    images = [Image.open(f) for f in images]\n",
    "    \n",
    "    caps = caption_image(images)\n",
    "    captions.extend(caps)"
   ]
  },
  {
   "cell_type": "code",
   "execution_count": 14,
   "metadata": {},
   "outputs": [],
   "source": [
    "captions = list(\n",
    "    map(\n",
    "        lambda x: x['<DETAILED_CAPTION>'].replace(\"<pad>\", \"\"),\n",
    "        captions\n",
    "    )\n",
    ")"
   ]
  },
  {
   "cell_type": "code",
   "execution_count": null,
   "metadata": {},
   "outputs": [],
   "source": [
    "from IPython.display import display\n",
    "\n",
    "for cap, img in zip(captions, images):\n",
    "    print(\"\\n\".join(textwrap.wrap(cap)))\n",
    "    display(img)"
   ]
  },
  {
   "cell_type": "code",
   "execution_count": null,
   "metadata": {},
   "outputs": [],
   "source": []
  }
 ],
 "metadata": {
  "kernelspec": {
   "display_name": ".venv",
   "language": "python",
   "name": "python3"
  },
  "language_info": {
   "codemirror_mode": {
    "name": "ipython",
    "version": 3
   },
   "file_extension": ".py",
   "mimetype": "text/x-python",
   "name": "python",
   "nbconvert_exporter": "python",
   "pygments_lexer": "ipython3",
   "version": "3.12.5"
  }
 },
 "nbformat": 4,
 "nbformat_minor": 2
}
